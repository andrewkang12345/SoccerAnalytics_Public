{
  "nbformat": 4,
  "nbformat_minor": 0,
  "metadata": {
    "colab": {
      "provenance": []
    },
    "kernelspec": {
      "name": "python3",
      "display_name": "Python 3"
    },
    "language_info": {
      "name": "python"
    },
    "accelerator": "TPU"
  },
  "cells": [
    {
      "cell_type": "markdown",
      "source": [
        "Proof that pre-summer results are useless in predicting after-summer results\n"
      ],
      "metadata": {
        "id": "bBpofmiyOdeM"
      }
    },
    {
      "cell_type": "code",
      "execution_count": 1,
      "metadata": {
        "id": "J7OVSWbcCGEM"
      },
      "outputs": [],
      "source": [
        "import pandas as pd\n",
        "import numpy as np\n",
        "import math\n",
        "\n",
        "import statsmodels.api as sm\n",
        "import statsmodels.formula.api as smf\n",
        "from itertools import product\n",
        "from scipy.stats import skellam\n",
        "from sklearn.model_selection import KFold\n",
        "from datetime import datetime"
      ]
    },
    {
      "cell_type": "code",
      "source": [
        "data_raw = pd.read_csv('nwsl2022.csv')     # update file path to where you saved the data\n",
        "data = data_raw.copy()\n",
        "data = data.loc[(data['Day'].notna()) & (data['Day'] != 'Day')]\n",
        "data.loc[data['Score'].str[0] == '(', 'Score'] = data['Score'].str[4:7:1]\n",
        "data.loc[:, 'home_goals'] = data['Score'].str.split('–').str[0].astype(int)\n",
        "data.loc[:, 'away_goals'] = data['Score'].str.split('–').str[1].astype(int)"
      ],
      "metadata": {
        "id": "PrP0FGm7QuNb"
      },
      "execution_count": 2,
      "outputs": []
    },
    {
      "cell_type": "code",
      "source": [
        "def train_and_predict(data, alpha_coeff):\n",
        "    '''Train a Poisson Bradley-Terry model and produce predictions\n",
        "    Args:\n",
        "        data (pandas df): dataframe with cols 'Home', 'Away', 'home_goals', 'away_goals'\n",
        "    Returns:\n",
        "        pred (pandas df): dataframe with cols 'Home', 'Away',\n",
        "            'prob_home_win', 'prob_away_win', 'prob_draw'\n",
        "    '''\n",
        "    goal_model_data = pd.concat(\n",
        "    objs=[data[['Home','Away','home_goals']].assign(home=1).rename(\n",
        "            columns={'Home':'offense', 'Away':'defense', 'home_goals':'goals'}\n",
        "        ),\n",
        "        data[['Away','Home','away_goals']].assign(home=0\n",
        "        ).rename(columns={'Away': 'offense', 'Home':'defense', 'away_goals':'goals'})])\n",
        "\n",
        "    poisson_model = smf.glm(formula=\"goals ~ home + defense + offense\", data=goal_model_data,\n",
        "                        family=sm.families.Poisson()).fit_regularized(alpha=alpha_coeff, L1_wt=0)\n",
        "    all_teams = np.unique(data['Home'])\n",
        "\n",
        "    pred_data = pd.DataFrame(product([1, 0], all_teams, all_teams),\n",
        "        columns=['home', 'offense', 'defense']\n",
        "    ).query('offense != defense' )\n",
        "\n",
        "    pred_raw = pred_data.assign(pred_goals = poisson_model.predict(exog=pred_data))\n",
        "\n",
        "    pred_home = pred_raw.query('home == 1').rename(\n",
        "        columns={'offense':'Home', 'defense':'Away', 'pred_goals':'pred_goals_home'}\n",
        "    ).loc[:, ['Home', 'Away', 'pred_goals_home']]\n",
        "\n",
        "    pred_away = pred_raw.query('home == 0').rename(\n",
        "        columns={'defense':'Home', 'offense':'Away', 'pred_goals':'pred_goals_away'}\n",
        "    ).loc[:, ['Home', 'Away', 'pred_goals_away']]\n",
        "\n",
        "\n",
        "    pred = pd.merge(pred_home, pred_away, on=['Home', 'Away']).assign(\n",
        "        prob_home_win=lambda x: [\n",
        "            sum([skellam.pmf(diff, x['pred_goals_home'][i], x['pred_goals_away'][i]) for diff in range(1, 10)]) for i in range(0, x.shape[0])\n",
        "        ],\n",
        "        prob_away_win=lambda x: [\n",
        "            sum([skellam.pmf(diff, x['pred_goals_home'][i], x['pred_goals_away'][i]) for diff in range(-1, -10, -1)]) for i in range(0, x.shape[0])\n",
        "        ],\n",
        "        prob_draw=lambda x: [\n",
        "            skellam.pmf(0, x['pred_goals_home'][i], x['pred_goals_away'][i]) for i in range(0, x.shape[0])\n",
        "        ]\n",
        "        ).loc[:, ['Home', 'Away', 'prob_home_win', 'prob_away_win', 'prob_draw']]\n",
        "\n",
        "    return(pred)"
      ],
      "metadata": {
        "id": "t4Cae1FTQ-6g"
      },
      "execution_count": 4,
      "outputs": []
    },
    {
      "cell_type": "code",
      "source": [
        "def columnselect(row):\n",
        "    if row['home_goals'] > row['away_goals']:\n",
        "        return row['prob_home_win']\n",
        "    elif row['home_goals'] < row['away_goals']:\n",
        "        return row['prob_away_win']\n",
        "    else:\n",
        "        return row['prob_draw']"
      ],
      "metadata": {
        "id": "lPHz5tapRjn3"
      },
      "execution_count": 5,
      "outputs": []
    },
    {
      "cell_type": "code",
      "source": [
        "date_format = '%m/%d/%Y'\n",
        "data['Date'] = data['Date'].apply(lambda x: datetime.strptime(x, date_format).date())"
      ],
      "metadata": {
        "id": "UsIu1GgWwsHv"
      },
      "execution_count": 7,
      "outputs": []
    },
    {
      "cell_type": "markdown",
      "source": [
        "Below prints the average log probability with a model trained only with July ~ September data.\n",
        "\n"
      ],
      "metadata": {
        "id": "9YdaHM3MgXNk"
      }
    },
    {
      "cell_type": "code",
      "source": [
        "date0601 = datetime.strptime('06/01/2022', date_format).date()\n",
        "\n",
        "date0901 = datetime.strptime('09/01/2022', date_format).date()\n",
        "recent_traindata = data.loc[(data['Date']>date0601) & (data['Date']<date0901)]\n",
        "# real_pred = train_and_predict(data.loc[data['Date']<date0901], 0.9)\n",
        "real_pred = train_and_predict(recent_traindata, 0.9)\n",
        "\n",
        "real_test = data.loc[data['Date']>=date0901]\n",
        "\n",
        "# Calculate the log of the predicted probability for the outcome that occurred\n",
        "real_cv_data = pd.merge(real_test, real_pred, on = ['Home', 'Away'], how='left')\n",
        "\n",
        "real_cv_data['prob'] = real_cv_data.apply(columnselect, axis=1)\n",
        "real_cv_data['log_prob'] = real_cv_data['prob'].apply(math.log)\n",
        "real_cv_data = real_cv_data[['Date', 'Home', 'Away', 'log_prob']]\n",
        "print(np.mean(real_cv_data['log_prob']))\n",
        "# real_cv_data"
      ],
      "metadata": {
        "colab": {
          "base_uri": "https://localhost:8080/"
        },
        "id": "jOsQu9Xzxh0A",
        "outputId": "c6484249-49be-43cc-b206-0e9e0ce84f6c"
      },
      "execution_count": 31,
      "outputs": [
        {
          "output_type": "stream",
          "name": "stdout",
          "text": [
            "-0.9991142977097732\n"
          ]
        }
      ]
    },
    {
      "cell_type": "markdown",
      "source": [
        "Below attempts to optimize the previous model with older data (including before July) and fails; we can never reach a better log likelihood than the one printed above. Any data older than July is useless in our Skellam model."
      ],
      "metadata": {
        "id": "SxvfgisLghWA"
      }
    },
    {
      "cell_type": "code",
      "source": [
        "for rep in range(0, 1000, 100):\n",
        "  real_pred = train_and_predict(pd.concat([recent_traindata] * rep + [data.loc[data['Date']<date0901]]), 0.9)\n",
        "  real_test = data.loc[data['Date']>=date0901]\n",
        "\n",
        "  # Calculate the log of the predicted probability for the outcome that occurred\n",
        "  real_cv_data = pd.merge(real_test, real_pred, on = ['Home', 'Away'], how='left')\n",
        "\n",
        "  real_cv_data['prob'] = real_cv_data.apply(columnselect, axis=1)\n",
        "  real_cv_data['log_prob'] = real_cv_data['prob'].apply(math.log)\n",
        "  real_cv_data = real_cv_data[['Date', 'Home', 'Away', 'log_prob']]\n",
        "  print(np.mean(real_cv_data['log_prob']))\n"
      ],
      "metadata": {
        "colab": {
          "base_uri": "https://localhost:8080/"
        },
        "id": "bJWP2pdA9mjY",
        "outputId": "48f6bb19-0eb8-4f21-febf-7399313fa7b2"
      },
      "execution_count": 33,
      "outputs": [
        {
          "output_type": "stream",
          "name": "stdout",
          "text": [
            "-1.0199872683642905\n",
            "-0.99940234821033\n",
            "-0.9992593228125243\n",
            "-0.9992112053603819\n",
            "-0.9991870628336343\n",
            "-0.9991725503893171\n",
            "-0.99916286418027\n",
            "-0.9991559399429677\n",
            "-0.9991507437449694\n",
            "-0.9991467004666126\n"
          ]
        }
      ]
    }
  ]
}